{
 "cells": [
  {
   "cell_type": "markdown",
   "metadata": {},
   "source": [
    "# Notebook Configuration"
   ]
  },
  {
   "cell_type": "code",
   "execution_count": 23,
   "metadata": {},
   "outputs": [],
   "source": [
    "import pandas as pd\n",
    "import numpy as np\n",
    "import matplotlib.pyplot as plt\n",
    "from numpy.linalg import norm\n",
    "from surprise import Dataset, Reader, KNNBasic, accuracy\n",
    "from sklearn.metrics.pairwise import cosine_similarity"
   ]
  },
  {
   "cell_type": "markdown",
   "metadata": {},
   "source": [
    "# Pregunta 1"
   ]
  },
  {
   "cell_type": "markdown",
   "metadata": {},
   "source": [
    "La metrícas de similitud del KNN se basan en encontrar aquellas más proximas a una (vecinos más cercanos de esta misma). En base a una distancia seleccionada, euclidiana, manhattahn entre otros y los K vecinos mas cercanos, selecciona aquellos items que colinden entre esos mismos.\n",
    "\n",
    "* Ventajas:\n",
    "** Para preferencias de items, siendo menor que usarios, brinda recomendaciones debido a que el enfoque es mas escalable y el computo se reduce, en un dataset de peliculas, siendo estas menores que usuarios, y es enriquecedor sacar las comparaciones entre estas mismas porque cada modelo debe ser una experiencia unica como hace netflix.\n",
    "\n",
    "** Encuentra mejores patrones cuando la data esta por segmentos como se muestran en las peliculas, por categorias, en estos segementos mas granulares, el KNN reduce su computo y performa mejor en base a item-item.\n",
    "\n",
    "\n",
    "* Limitaciones:\n",
    "** No es escalable debido a la cantidad de puntos computados con el objetivo, complejidad alta. En una plataforma de peliculas abundantes como netflix podría saturarse.\n",
    "** Para items que no sean bastante vistos, una matriz de ceros grandes generaria distancias no sinceradas, por lo que las recomendaciones podrían equivocarse y brindar una mala experiencia, siendo esto algo penetrante para peliculas pues se invierte mucho tiempo por parte del usuario."
   ]
  },
  {
   "cell_type": "markdown",
   "metadata": {},
   "source": [
    "# Pregunta 2"
   ]
  },
  {
   "cell_type": "markdown",
   "metadata": {},
   "source": [
    "Get data"
   ]
  },
  {
   "cell_type": "code",
   "execution_count": 4,
   "metadata": {},
   "outputs": [],
   "source": [
    "# # Cargar los datasets de calificaciones y películas\n",
    "ratings = pd.read_csv('datasets/ml-1m/ratings.dat', sep='::', header=None, engine='python',\n",
    "                      names=['userId', 'movieId', 'rating', 'timestamp'], encoding='latin-1')\n",
    "movies  = pd.read_csv('datasets/ml-1m/movies.dat', sep='::',  header=None, engine='python',\n",
    "                      names=['movieId', 'title', 'genres'], encoding='latin-1')"
   ]
  },
  {
   "cell_type": "markdown",
   "metadata": {},
   "source": [
    "Join data"
   ]
  },
  {
   "cell_type": "code",
   "execution_count": 5,
   "metadata": {},
   "outputs": [
    {
     "data": {
      "text/html": [
       "<div>\n",
       "<style scoped>\n",
       "    .dataframe tbody tr th:only-of-type {\n",
       "        vertical-align: middle;\n",
       "    }\n",
       "\n",
       "    .dataframe tbody tr th {\n",
       "        vertical-align: top;\n",
       "    }\n",
       "\n",
       "    .dataframe thead th {\n",
       "        text-align: right;\n",
       "    }\n",
       "</style>\n",
       "<table border=\"1\" class=\"dataframe\">\n",
       "  <thead>\n",
       "    <tr style=\"text-align: right;\">\n",
       "      <th></th>\n",
       "      <th>userId</th>\n",
       "      <th>title</th>\n",
       "      <th>rating</th>\n",
       "    </tr>\n",
       "  </thead>\n",
       "  <tbody>\n",
       "    <tr>\n",
       "      <th>0</th>\n",
       "      <td>1</td>\n",
       "      <td>One Flew Over the Cuckoo's Nest (1975)</td>\n",
       "      <td>5</td>\n",
       "    </tr>\n",
       "    <tr>\n",
       "      <th>29</th>\n",
       "      <td>1</td>\n",
       "      <td>Close Shave, A (1995)</td>\n",
       "      <td>3</td>\n",
       "    </tr>\n",
       "    <tr>\n",
       "      <th>30</th>\n",
       "      <td>1</td>\n",
       "      <td>Antz (1998)</td>\n",
       "      <td>4</td>\n",
       "    </tr>\n",
       "    <tr>\n",
       "      <th>31</th>\n",
       "      <td>1</td>\n",
       "      <td>Girl, Interrupted (1999)</td>\n",
       "      <td>4</td>\n",
       "    </tr>\n",
       "    <tr>\n",
       "      <th>32</th>\n",
       "      <td>1</td>\n",
       "      <td>Hercules (1997)</td>\n",
       "      <td>4</td>\n",
       "    </tr>\n",
       "  </tbody>\n",
       "</table>\n",
       "</div>"
      ],
      "text/plain": [
       "    userId                                   title  rating\n",
       "0        1  One Flew Over the Cuckoo's Nest (1975)       5\n",
       "29       1                   Close Shave, A (1995)       3\n",
       "30       1                             Antz (1998)       4\n",
       "31       1                Girl, Interrupted (1999)       4\n",
       "32       1                         Hercules (1997)       4"
      ]
     },
     "execution_count": 5,
     "metadata": {},
     "output_type": "execute_result"
    }
   ],
   "source": [
    "# Unir los datasets en base a 'movieId' para agregar los títulos\n",
    "user_item_rating = pd.merge(ratings, movies[['movieId', 'title']], on='movieId')\n",
    "\n",
    "# Seleccionar solo las columnas necesarias\n",
    "user_item_rating = user_item_rating[['userId', 'title', 'rating']]\n",
    "\n",
    "# Ordenar los datos por 'userId'\n",
    "user_item_rating.sort_values(by='userId', inplace=True)\n",
    "\n",
    "# Mostrar las primeras filas para verificar\n",
    "user_item_rating.head()"
   ]
  },
  {
   "cell_type": "markdown",
   "metadata": {},
   "source": [
    "Select two users that have at least 5 movies in common"
   ]
  },
  {
   "cell_type": "code",
   "execution_count": 6,
   "metadata": {},
   "outputs": [
    {
     "data": {
      "text/html": [
       "<div>\n",
       "<style scoped>\n",
       "    .dataframe tbody tr th:only-of-type {\n",
       "        vertical-align: middle;\n",
       "    }\n",
       "\n",
       "    .dataframe tbody tr th {\n",
       "        vertical-align: top;\n",
       "    }\n",
       "\n",
       "    .dataframe thead th {\n",
       "        text-align: right;\n",
       "    }\n",
       "</style>\n",
       "<table border=\"1\" class=\"dataframe\">\n",
       "  <thead>\n",
       "    <tr style=\"text-align: right;\">\n",
       "      <th></th>\n",
       "      <th>userId</th>\n",
       "      <th>title</th>\n",
       "      <th>rating</th>\n",
       "    </tr>\n",
       "  </thead>\n",
       "  <tbody>\n",
       "    <tr>\n",
       "      <th>0</th>\n",
       "      <td>1</td>\n",
       "      <td>One Flew Over the Cuckoo's Nest (1975)</td>\n",
       "      <td>5</td>\n",
       "    </tr>\n",
       "    <tr>\n",
       "      <th>29</th>\n",
       "      <td>1</td>\n",
       "      <td>Close Shave, A (1995)</td>\n",
       "      <td>3</td>\n",
       "    </tr>\n",
       "    <tr>\n",
       "      <th>30</th>\n",
       "      <td>1</td>\n",
       "      <td>Antz (1998)</td>\n",
       "      <td>4</td>\n",
       "    </tr>\n",
       "    <tr>\n",
       "      <th>31</th>\n",
       "      <td>1</td>\n",
       "      <td>Girl, Interrupted (1999)</td>\n",
       "      <td>4</td>\n",
       "    </tr>\n",
       "    <tr>\n",
       "      <th>32</th>\n",
       "      <td>1</td>\n",
       "      <td>Hercules (1997)</td>\n",
       "      <td>4</td>\n",
       "    </tr>\n",
       "  </tbody>\n",
       "</table>\n",
       "</div>"
      ],
      "text/plain": [
       "    userId                                   title  rating\n",
       "0        1  One Flew Over the Cuckoo's Nest (1975)       5\n",
       "29       1                   Close Shave, A (1995)       3\n",
       "30       1                             Antz (1998)       4\n",
       "31       1                Girl, Interrupted (1999)       4\n",
       "32       1                         Hercules (1997)       4"
      ]
     },
     "execution_count": 6,
     "metadata": {},
     "output_type": "execute_result"
    }
   ],
   "source": [
    "# Establecer el mínimo de calificaciones por película\n",
    "min_ratings_per_movie = 5\n",
    "\n",
    "# Filtrar las películas con al menos min_ratings_per_movie calificaciones\n",
    "movie_counts = user_item_rating['title'].value_counts()\n",
    "popular_movies = movie_counts[movie_counts >= min_ratings_per_movie].index\n",
    "\n",
    "# Filtrar el dataset original\n",
    "filtered_data = user_item_rating[user_item_rating['title'].isin(popular_movies)]\n",
    "filtered_data.head()"
   ]
  },
  {
   "cell_type": "code",
   "execution_count": 7,
   "metadata": {},
   "outputs": [],
   "source": [
    "# Contar cuántas películas ha calificado cada usuario\n",
    "user_rating_counts_filtered = filtered_data['userId'].value_counts()"
   ]
  },
  {
   "cell_type": "markdown",
   "metadata": {},
   "source": [
    "Generate user - item matrix"
   ]
  },
  {
   "cell_type": "code",
   "execution_count": 8,
   "metadata": {},
   "outputs": [
    {
     "data": {
      "text/html": [
       "<div>\n",
       "<style scoped>\n",
       "    .dataframe tbody tr th:only-of-type {\n",
       "        vertical-align: middle;\n",
       "    }\n",
       "\n",
       "    .dataframe tbody tr th {\n",
       "        vertical-align: top;\n",
       "    }\n",
       "\n",
       "    .dataframe thead th {\n",
       "        text-align: right;\n",
       "    }\n",
       "</style>\n",
       "<table border=\"1\" class=\"dataframe\">\n",
       "  <thead>\n",
       "    <tr style=\"text-align: right;\">\n",
       "      <th>title</th>\n",
       "      <th>$1,000,000 Duck (1971)</th>\n",
       "      <th>'Night Mother (1986)</th>\n",
       "      <th>'Til There Was You (1997)</th>\n",
       "      <th>'burbs, The (1989)</th>\n",
       "      <th>...And Justice for All (1979)</th>\n",
       "      <th>10 Things I Hate About You (1999)</th>\n",
       "      <th>101 Dalmatians (1961)</th>\n",
       "      <th>101 Dalmatians (1996)</th>\n",
       "      <th>12 Angry Men (1957)</th>\n",
       "      <th>13th Warrior, The (1999)</th>\n",
       "      <th>...</th>\n",
       "      <th>Young Guns (1988)</th>\n",
       "      <th>Young Guns II (1990)</th>\n",
       "      <th>Young Poisoner's Handbook, The (1995)</th>\n",
       "      <th>Young Sherlock Holmes (1985)</th>\n",
       "      <th>Young and Innocent (1937)</th>\n",
       "      <th>Your Friends and Neighbors (1998)</th>\n",
       "      <th>Zed &amp; Two Noughts, A (1985)</th>\n",
       "      <th>Zero Effect (1998)</th>\n",
       "      <th>Zeus and Roxanne (1997)</th>\n",
       "      <th>eXistenZ (1999)</th>\n",
       "    </tr>\n",
       "    <tr>\n",
       "      <th>userId</th>\n",
       "      <th></th>\n",
       "      <th></th>\n",
       "      <th></th>\n",
       "      <th></th>\n",
       "      <th></th>\n",
       "      <th></th>\n",
       "      <th></th>\n",
       "      <th></th>\n",
       "      <th></th>\n",
       "      <th></th>\n",
       "      <th></th>\n",
       "      <th></th>\n",
       "      <th></th>\n",
       "      <th></th>\n",
       "      <th></th>\n",
       "      <th></th>\n",
       "      <th></th>\n",
       "      <th></th>\n",
       "      <th></th>\n",
       "      <th></th>\n",
       "      <th></th>\n",
       "    </tr>\n",
       "  </thead>\n",
       "  <tbody>\n",
       "    <tr>\n",
       "      <th>4169</th>\n",
       "      <td>NaN</td>\n",
       "      <td>5.0</td>\n",
       "      <td>NaN</td>\n",
       "      <td>NaN</td>\n",
       "      <td>3.0</td>\n",
       "      <td>NaN</td>\n",
       "      <td>4.0</td>\n",
       "      <td>4.0</td>\n",
       "      <td>5.0</td>\n",
       "      <td>4.0</td>\n",
       "      <td>...</td>\n",
       "      <td>3.0</td>\n",
       "      <td>3.0</td>\n",
       "      <td>NaN</td>\n",
       "      <td>3.0</td>\n",
       "      <td>3.0</td>\n",
       "      <td>3.0</td>\n",
       "      <td>3.0</td>\n",
       "      <td>3.0</td>\n",
       "      <td>NaN</td>\n",
       "      <td>4.0</td>\n",
       "    </tr>\n",
       "    <tr>\n",
       "      <th>1680</th>\n",
       "      <td>3.0</td>\n",
       "      <td>5.0</td>\n",
       "      <td>3.0</td>\n",
       "      <td>3.0</td>\n",
       "      <td>5.0</td>\n",
       "      <td>NaN</td>\n",
       "      <td>5.0</td>\n",
       "      <td>3.0</td>\n",
       "      <td>NaN</td>\n",
       "      <td>1.0</td>\n",
       "      <td>...</td>\n",
       "      <td>1.0</td>\n",
       "      <td>1.0</td>\n",
       "      <td>NaN</td>\n",
       "      <td>3.0</td>\n",
       "      <td>NaN</td>\n",
       "      <td>5.0</td>\n",
       "      <td>3.0</td>\n",
       "      <td>4.0</td>\n",
       "      <td>NaN</td>\n",
       "      <td>5.0</td>\n",
       "    </tr>\n",
       "    <tr>\n",
       "      <th>4277</th>\n",
       "      <td>NaN</td>\n",
       "      <td>NaN</td>\n",
       "      <td>NaN</td>\n",
       "      <td>NaN</td>\n",
       "      <td>5.0</td>\n",
       "      <td>NaN</td>\n",
       "      <td>4.0</td>\n",
       "      <td>NaN</td>\n",
       "      <td>5.0</td>\n",
       "      <td>4.0</td>\n",
       "      <td>...</td>\n",
       "      <td>4.0</td>\n",
       "      <td>3.0</td>\n",
       "      <td>2.0</td>\n",
       "      <td>4.0</td>\n",
       "      <td>NaN</td>\n",
       "      <td>NaN</td>\n",
       "      <td>3.0</td>\n",
       "      <td>5.0</td>\n",
       "      <td>NaN</td>\n",
       "      <td>4.0</td>\n",
       "    </tr>\n",
       "    <tr>\n",
       "      <th>1941</th>\n",
       "      <td>4.0</td>\n",
       "      <td>NaN</td>\n",
       "      <td>NaN</td>\n",
       "      <td>1.0</td>\n",
       "      <td>NaN</td>\n",
       "      <td>2.0</td>\n",
       "      <td>5.0</td>\n",
       "      <td>3.0</td>\n",
       "      <td>5.0</td>\n",
       "      <td>1.0</td>\n",
       "      <td>...</td>\n",
       "      <td>4.0</td>\n",
       "      <td>3.0</td>\n",
       "      <td>NaN</td>\n",
       "      <td>3.0</td>\n",
       "      <td>NaN</td>\n",
       "      <td>NaN</td>\n",
       "      <td>NaN</td>\n",
       "      <td>NaN</td>\n",
       "      <td>4.0</td>\n",
       "      <td>NaN</td>\n",
       "    </tr>\n",
       "    <tr>\n",
       "      <th>1181</th>\n",
       "      <td>NaN</td>\n",
       "      <td>NaN</td>\n",
       "      <td>NaN</td>\n",
       "      <td>NaN</td>\n",
       "      <td>2.0</td>\n",
       "      <td>2.0</td>\n",
       "      <td>3.0</td>\n",
       "      <td>3.0</td>\n",
       "      <td>2.0</td>\n",
       "      <td>4.0</td>\n",
       "      <td>...</td>\n",
       "      <td>2.0</td>\n",
       "      <td>2.0</td>\n",
       "      <td>NaN</td>\n",
       "      <td>3.0</td>\n",
       "      <td>NaN</td>\n",
       "      <td>NaN</td>\n",
       "      <td>NaN</td>\n",
       "      <td>NaN</td>\n",
       "      <td>NaN</td>\n",
       "      <td>4.0</td>\n",
       "    </tr>\n",
       "  </tbody>\n",
       "</table>\n",
       "<p>5 rows × 3416 columns</p>\n",
       "</div>"
      ],
      "text/plain": [
       "title   $1,000,000 Duck (1971)  'Night Mother (1986)  \\\n",
       "userId                                                 \n",
       "4169                       NaN                   5.0   \n",
       "1680                       3.0                   5.0   \n",
       "4277                       NaN                   NaN   \n",
       "1941                       4.0                   NaN   \n",
       "1181                       NaN                   NaN   \n",
       "\n",
       "title   'Til There Was You (1997)  'burbs, The (1989)  \\\n",
       "userId                                                  \n",
       "4169                          NaN                 NaN   \n",
       "1680                          3.0                 3.0   \n",
       "4277                          NaN                 NaN   \n",
       "1941                          NaN                 1.0   \n",
       "1181                          NaN                 NaN   \n",
       "\n",
       "title   ...And Justice for All (1979)  10 Things I Hate About You (1999)  \\\n",
       "userId                                                                     \n",
       "4169                              3.0                                NaN   \n",
       "1680                              5.0                                NaN   \n",
       "4277                              5.0                                NaN   \n",
       "1941                              NaN                                2.0   \n",
       "1181                              2.0                                2.0   \n",
       "\n",
       "title   101 Dalmatians (1961)  101 Dalmatians (1996)  12 Angry Men (1957)  \\\n",
       "userId                                                                      \n",
       "4169                      4.0                    4.0                  5.0   \n",
       "1680                      5.0                    3.0                  NaN   \n",
       "4277                      4.0                    NaN                  5.0   \n",
       "1941                      5.0                    3.0                  5.0   \n",
       "1181                      3.0                    3.0                  2.0   \n",
       "\n",
       "title   13th Warrior, The (1999)  ...  Young Guns (1988)  \\\n",
       "userId                            ...                      \n",
       "4169                         4.0  ...                3.0   \n",
       "1680                         1.0  ...                1.0   \n",
       "4277                         4.0  ...                4.0   \n",
       "1941                         1.0  ...                4.0   \n",
       "1181                         4.0  ...                2.0   \n",
       "\n",
       "title   Young Guns II (1990)  Young Poisoner's Handbook, The (1995)  \\\n",
       "userId                                                                \n",
       "4169                     3.0                                    NaN   \n",
       "1680                     1.0                                    NaN   \n",
       "4277                     3.0                                    2.0   \n",
       "1941                     3.0                                    NaN   \n",
       "1181                     2.0                                    NaN   \n",
       "\n",
       "title   Young Sherlock Holmes (1985)  Young and Innocent (1937)  \\\n",
       "userId                                                            \n",
       "4169                             3.0                        3.0   \n",
       "1680                             3.0                        NaN   \n",
       "4277                             4.0                        NaN   \n",
       "1941                             3.0                        NaN   \n",
       "1181                             3.0                        NaN   \n",
       "\n",
       "title   Your Friends and Neighbors (1998)  Zed & Two Noughts, A (1985)  \\\n",
       "userId                                                                   \n",
       "4169                                  3.0                          3.0   \n",
       "1680                                  5.0                          3.0   \n",
       "4277                                  NaN                          3.0   \n",
       "1941                                  NaN                          NaN   \n",
       "1181                                  NaN                          NaN   \n",
       "\n",
       "title   Zero Effect (1998)  Zeus and Roxanne (1997)  eXistenZ (1999)  \n",
       "userId                                                                \n",
       "4169                   3.0                      NaN              4.0  \n",
       "1680                   4.0                      NaN              5.0  \n",
       "4277                   5.0                      NaN              4.0  \n",
       "1941                   NaN                      4.0              NaN  \n",
       "1181                   NaN                      NaN              4.0  \n",
       "\n",
       "[5 rows x 3416 columns]"
      ]
     },
     "execution_count": 8,
     "metadata": {},
     "output_type": "execute_result"
    }
   ],
   "source": [
    "# Crear la matriz usuario-ítem\n",
    "user_item_matrix = filtered_data.pivot_table(index='userId', columns='title', values='rating')\n",
    "\n",
    "# Ordenar los IDs de usuario por cantidad de calificaciones\n",
    "sorted_user_ids = user_rating_counts_filtered.index\n",
    "\n",
    "# Ordenar la matriz según usuarios más activos\n",
    "user_item_matrix_sorted = user_item_matrix.loc[sorted_user_ids]\n",
    "user_item_matrix_sorted.head()"
   ]
  },
  {
   "cell_type": "markdown",
   "metadata": {},
   "source": [
    "Get users"
   ]
  },
  {
   "cell_type": "code",
   "execution_count": 9,
   "metadata": {},
   "outputs": [
    {
     "data": {
      "text/html": [
       "<div>\n",
       "<style scoped>\n",
       "    .dataframe tbody tr th:only-of-type {\n",
       "        vertical-align: middle;\n",
       "    }\n",
       "\n",
       "    .dataframe tbody tr th {\n",
       "        vertical-align: top;\n",
       "    }\n",
       "\n",
       "    .dataframe thead th {\n",
       "        text-align: right;\n",
       "    }\n",
       "</style>\n",
       "<table border=\"1\" class=\"dataframe\">\n",
       "  <thead>\n",
       "    <tr style=\"text-align: right;\">\n",
       "      <th>userId</th>\n",
       "      <th>4169</th>\n",
       "      <th>1680</th>\n",
       "    </tr>\n",
       "    <tr>\n",
       "      <th>userId</th>\n",
       "      <th></th>\n",
       "      <th></th>\n",
       "    </tr>\n",
       "  </thead>\n",
       "  <tbody>\n",
       "    <tr>\n",
       "      <th>4169</th>\n",
       "      <td>1.000000</td>\n",
       "      <td>0.238442</td>\n",
       "    </tr>\n",
       "    <tr>\n",
       "      <th>1680</th>\n",
       "      <td>0.238442</td>\n",
       "      <td>1.000000</td>\n",
       "    </tr>\n",
       "  </tbody>\n",
       "</table>\n",
       "</div>"
      ],
      "text/plain": [
       "userId      4169      1680\n",
       "userId                    \n",
       "4169    1.000000  0.238442\n",
       "1680    0.238442  1.000000"
      ]
     },
     "execution_count": 9,
     "metadata": {},
     "output_type": "execute_result"
    }
   ],
   "source": [
    "userid_1 = 4169\n",
    "userid_2 = 1680\n",
    "\n",
    "# get values\n",
    "values = user_item_matrix_sorted[user_item_matrix_sorted.index.isin([userid_1, userid_2])]\n",
    "\n",
    "# calculate correlation\n",
    "values.T.corr(method = 'pearson')"
   ]
  },
  {
   "cell_type": "markdown",
   "metadata": {},
   "source": [
    "Interpretacion:\n",
    "\n",
    "Se muestra una correlacion positiva entre los dos usuarios con respecto a sus puntuaciones, esto quiere decir que a medida que uno aumenta sus puntuaciones el otro tambien lo hace. Además, al tener valores en la misma tendencia, pueden tener un patron de consumo similar. Sin embargo, como el valor no es una correlacion fuerte, quiere decir que tambien para las mismas peliculas, han puntuado de manera diferente o alejada"
   ]
  },
  {
   "cell_type": "markdown",
   "metadata": {},
   "source": [
    "# Pregunta 3"
   ]
  },
  {
   "cell_type": "code",
   "execution_count": 17,
   "metadata": {},
   "outputs": [],
   "source": [
    "\n",
    "def cosine_dist(A, B):\n",
    "  return np.dot(A,B)/(norm(A)*norm(B))"
   ]
  },
  {
   "cell_type": "code",
   "execution_count": 21,
   "metadata": {},
   "outputs": [
    {
     "data": {
      "text/plain": [
       "(0.027256567834108552, 0.041427613249958056)"
      ]
     },
     "execution_count": 21,
     "metadata": {},
     "output_type": "execute_result"
    }
   ],
   "source": [
    "count_movies = filtered_data.title.value_counts()\n",
    "filtered_count_movies = count_movies[(count_movies >= 50) & (count_movies <= 60)]\n",
    "\n",
    "# get top 3\n",
    "top3 = filtered_count_movies[:3]\n",
    "\n",
    "# get names\n",
    "top3_names = top3.index.tolist()\n",
    "\n",
    "# select movies and their scores\n",
    "top3_score = user_item_matrix_sorted[top3_names].fillna(0).copy()\n",
    "\n",
    "# calculate sim\n",
    "cosine_similarity_1_2 = cosine_dist(top3_score.iloc[:, 0], top3_score.iloc[:, 1])\n",
    "cosine_similarity_1_3 = cosine_dist(top3_score.iloc[:, 0], top3_score.iloc[:, 2])\n",
    "\n",
    "cosine_similarity_1_2, cosine_similarity_1_3"
   ]
  },
  {
   "cell_type": "markdown",
   "metadata": {},
   "source": [
    "Interpretacion:\n",
    "\n",
    "Usaria los items de las pelicula 1 para recomendar las faltantes en las peliculas 3 debido a la mayor similitud. Esto en base a preferencias mas no en tamaños como rating debido a que esta metrica no ve eso. Por otro se podrían brindar recomendaciones entre items si esta medida fuera mas cercana a 1, pues se entendería que estan superpuestas por el angulo pequeño que las separa"
   ]
  },
  {
   "cell_type": "markdown",
   "metadata": {},
   "source": [
    "# Pregunta 4"
   ]
  },
  {
   "cell_type": "markdown",
   "metadata": {},
   "source": [
    "Split into subsets"
   ]
  },
  {
   "cell_type": "code",
   "execution_count": 22,
   "metadata": {},
   "outputs": [
    {
     "name": "stderr",
     "output_type": "stream",
     "text": [
      "/tmp/ipykernel_19519/2001034640.py:4: DeprecationWarning: DataFrameGroupBy.apply operated on the grouping columns. This behavior is deprecated, and in a future version of pandas the grouping columns will be excluded from the operation. Either pass `include_groups=False` to exclude the groupings or explicitly select the grouping columns after groupby to silence this warning.\n",
      "  train_df = df.groupby('userId').apply(lambda x: x.sample(frac=1 - test_size, random_state=42)).reset_index(drop=True)\n"
     ]
    }
   ],
   "source": [
    "def Random_Holdout(df, test_size=0.25):\n",
    "    \"\"\"Divide los datos asegurando que cada usuario tenga al menos una interacción en el conjunto de entrenamiento\"\"\"\n",
    "    # Seleccionar al azar un porcentaje de interacciones por usuario para entrenamiento\n",
    "    train_df = df.groupby('userId').apply(lambda x: x.sample(frac=1 - test_size, random_state=42)).reset_index(drop=True)\n",
    "    # El resto va al conjunto de prueba\n",
    "    test_df = pd.concat([df, train_df]).drop_duplicates(keep=False)\n",
    "\n",
    "    return train_df, test_df\n",
    "\n",
    "# Aplicar la función al dataset filtrado\n",
    "train_df, test_df = Random_Holdout(filtered_data, test_size=0.3)"
   ]
  },
  {
   "cell_type": "code",
   "execution_count": 24,
   "metadata": {},
   "outputs": [],
   "source": [
    "from surprise import Dataset, Reader, KNNBasic, accuracy\n",
    "\n",
    "# Definir el rango de calificaciones\n",
    "reader = Reader(rating_scale=(1, 5))\n",
    "\n",
    "# Cargar datos de entrenamiento\n",
    "# First column has to be users when user_based is True\n",
    "trainset = Dataset.load_from_df(train_df[['userId', 'title', 'rating']], reader).build_full_trainset()\n",
    "\n",
    "# Crear conjunto de prueba\n",
    "testset = list(test_df[['userId', 'title', 'rating']].itertuples(index=False, name=None))"
   ]
  },
  {
   "cell_type": "markdown",
   "metadata": {},
   "source": [
    "It is used item-item in order to use previous results to support last answer"
   ]
  },
  {
   "cell_type": "code",
   "execution_count": 25,
   "metadata": {},
   "outputs": [
    {
     "name": "stdout",
     "output_type": "stream",
     "text": [
      "Computing the msd similarity matrix...\n",
      "Done computing similarity matrix.\n"
     ]
    },
    {
     "data": {
      "text/plain": [
       "<surprise.prediction_algorithms.knns.KNNBasic at 0x7f372a2c1d20>"
      ]
     },
     "execution_count": 25,
     "metadata": {},
     "output_type": "execute_result"
    }
   ],
   "source": [
    "# Configurar opciones del modelo KNN\n",
    "sim_options = {'name': 'msd',  # Mean Squared Difference (distancia euclidiana)\n",
    "               'user_based': False} # Filtrado Usuario-Usuario\n",
    "\n",
    "# Crear el modelo KNN\n",
    "knn = KNNBasic(k = 30, sim_options = sim_options)\n",
    "\n",
    "# Entrenar el modelo\n",
    "knn.fit(trainset)"
   ]
  },
  {
   "cell_type": "markdown",
   "metadata": {},
   "source": [
    "Make predictions"
   ]
  },
  {
   "cell_type": "code",
   "execution_count": 26,
   "metadata": {},
   "outputs": [
    {
     "name": "stdout",
     "output_type": "stream",
     "text": [
      "RMSE: 0.9233\n",
      "RMSE del modelo: 0.9233\n"
     ]
    }
   ],
   "source": [
    "# Hacer predicciones sobre el conjunto de prueba\n",
    "predictions = knn.test(testset)\n",
    "\n",
    "# Calcular el RMSE\n",
    "rmse = accuracy.rmse(predictions)\n",
    "print(f\"RMSE del modelo: {rmse:.4f}\")"
   ]
  },
  {
   "cell_type": "code",
   "execution_count": 27,
   "metadata": {},
   "outputs": [
    {
     "data": {
      "text/html": [
       "<div>\n",
       "<style scoped>\n",
       "    .dataframe tbody tr th:only-of-type {\n",
       "        vertical-align: middle;\n",
       "    }\n",
       "\n",
       "    .dataframe tbody tr th {\n",
       "        vertical-align: top;\n",
       "    }\n",
       "\n",
       "    .dataframe thead th {\n",
       "        text-align: right;\n",
       "    }\n",
       "</style>\n",
       "<table border=\"1\" class=\"dataframe\">\n",
       "  <thead>\n",
       "    <tr style=\"text-align: right;\">\n",
       "      <th></th>\n",
       "      <th>userId</th>\n",
       "      <th>movieId</th>\n",
       "      <th>real_rating</th>\n",
       "      <th>predicted_rating</th>\n",
       "      <th>details</th>\n",
       "    </tr>\n",
       "  </thead>\n",
       "  <tbody>\n",
       "    <tr>\n",
       "      <th>14467</th>\n",
       "      <td>324</td>\n",
       "      <td>Aladdin (1992)</td>\n",
       "      <td>4</td>\n",
       "      <td>3.790093</td>\n",
       "      <td>{'actual_k': 30, 'was_impossible': False}</td>\n",
       "    </tr>\n",
       "    <tr>\n",
       "      <th>14464</th>\n",
       "      <td>324</td>\n",
       "      <td>Matrix, The (1999)</td>\n",
       "      <td>5</td>\n",
       "      <td>3.722134</td>\n",
       "      <td>{'actual_k': 30, 'was_impossible': False}</td>\n",
       "    </tr>\n",
       "    <tr>\n",
       "      <th>14470</th>\n",
       "      <td>324</td>\n",
       "      <td>Star Trek: The Wrath of Khan (1982)</td>\n",
       "      <td>5</td>\n",
       "      <td>3.695273</td>\n",
       "      <td>{'actual_k': 30, 'was_impossible': False}</td>\n",
       "    </tr>\n",
       "    <tr>\n",
       "      <th>14474</th>\n",
       "      <td>324</td>\n",
       "      <td>Enemy of the State (1998)</td>\n",
       "      <td>3</td>\n",
       "      <td>3.686965</td>\n",
       "      <td>{'actual_k': 30, 'was_impossible': False}</td>\n",
       "    </tr>\n",
       "    <tr>\n",
       "      <th>14466</th>\n",
       "      <td>324</td>\n",
       "      <td>Princess Bride, The (1987)</td>\n",
       "      <td>4</td>\n",
       "      <td>3.682759</td>\n",
       "      <td>{'actual_k': 30, 'was_impossible': False}</td>\n",
       "    </tr>\n",
       "    <tr>\n",
       "      <th>14463</th>\n",
       "      <td>324</td>\n",
       "      <td>Sound of Music, The (1965)</td>\n",
       "      <td>4</td>\n",
       "      <td>3.652547</td>\n",
       "      <td>{'actual_k': 30, 'was_impossible': False}</td>\n",
       "    </tr>\n",
       "    <tr>\n",
       "      <th>14475</th>\n",
       "      <td>324</td>\n",
       "      <td>Green Mile, The (1999)</td>\n",
       "      <td>4</td>\n",
       "      <td>3.636017</td>\n",
       "      <td>{'actual_k': 30, 'was_impossible': False}</td>\n",
       "    </tr>\n",
       "    <tr>\n",
       "      <th>14458</th>\n",
       "      <td>324</td>\n",
       "      <td>Remember the Titans (2000)</td>\n",
       "      <td>3</td>\n",
       "      <td>3.635736</td>\n",
       "      <td>{'actual_k': 30, 'was_impossible': False}</td>\n",
       "    </tr>\n",
       "    <tr>\n",
       "      <th>14468</th>\n",
       "      <td>324</td>\n",
       "      <td>Ghost (1990)</td>\n",
       "      <td>4</td>\n",
       "      <td>3.625816</td>\n",
       "      <td>{'actual_k': 30, 'was_impossible': False}</td>\n",
       "    </tr>\n",
       "    <tr>\n",
       "      <th>14462</th>\n",
       "      <td>324</td>\n",
       "      <td>Usual Suspects, The (1995)</td>\n",
       "      <td>5</td>\n",
       "      <td>3.620741</td>\n",
       "      <td>{'actual_k': 30, 'was_impossible': False}</td>\n",
       "    </tr>\n",
       "  </tbody>\n",
       "</table>\n",
       "</div>"
      ],
      "text/plain": [
       "       userId                              movieId  real_rating  \\\n",
       "14467     324                       Aladdin (1992)            4   \n",
       "14464     324                   Matrix, The (1999)            5   \n",
       "14470     324  Star Trek: The Wrath of Khan (1982)            5   \n",
       "14474     324            Enemy of the State (1998)            3   \n",
       "14466     324           Princess Bride, The (1987)            4   \n",
       "14463     324           Sound of Music, The (1965)            4   \n",
       "14475     324               Green Mile, The (1999)            4   \n",
       "14458     324           Remember the Titans (2000)            3   \n",
       "14468     324                         Ghost (1990)            4   \n",
       "14462     324           Usual Suspects, The (1995)            5   \n",
       "\n",
       "       predicted_rating                                    details  \n",
       "14467          3.790093  {'actual_k': 30, 'was_impossible': False}  \n",
       "14464          3.722134  {'actual_k': 30, 'was_impossible': False}  \n",
       "14470          3.695273  {'actual_k': 30, 'was_impossible': False}  \n",
       "14474          3.686965  {'actual_k': 30, 'was_impossible': False}  \n",
       "14466          3.682759  {'actual_k': 30, 'was_impossible': False}  \n",
       "14463          3.652547  {'actual_k': 30, 'was_impossible': False}  \n",
       "14475          3.636017  {'actual_k': 30, 'was_impossible': False}  \n",
       "14458          3.635736  {'actual_k': 30, 'was_impossible': False}  \n",
       "14468          3.625816  {'actual_k': 30, 'was_impossible': False}  \n",
       "14462          3.620741  {'actual_k': 30, 'was_impossible': False}  "
      ]
     },
     "execution_count": 27,
     "metadata": {},
     "output_type": "execute_result"
    }
   ],
   "source": [
    "# Convertir predicciones a DataFrame\n",
    "predictions_df = pd.DataFrame(predictions, columns=['userId', 'movieId', 'real_rating', 'predicted_rating', 'details'])\n",
    "\n",
    "# Mostrar las predicciones principales para el usuario 324\n",
    "user_324_predictions = predictions_df[predictions_df.userId == 324].sort_values(by='predicted_rating', ascending=False)\n",
    "user_324_predictions.head(10)"
   ]
  },
  {
   "cell_type": "markdown",
   "metadata": {},
   "source": [
    "Global hit rate"
   ]
  },
  {
   "cell_type": "code",
   "execution_count": 28,
   "metadata": {},
   "outputs": [
    {
     "name": "stdout",
     "output_type": "stream",
     "text": [
      "Hit Rate Global: 0.42\n"
     ]
    }
   ],
   "source": [
    "# Definir umbral de relevancia\n",
    "relevant_threshold = 4.0\n",
    "\n",
    "# Inicializar contadores\n",
    "hits = 0\n",
    "total_relevant = 0\n",
    "\n",
    "# Iterar sobre todas las predicciones\n",
    "for _, row in predictions_df.iterrows():\n",
    "    real_rating = row['real_rating']\n",
    "    predicted_rating = row['predicted_rating']\n",
    "\n",
    "    # Considerar películas con calificación real ≥ umbral como relevantes\n",
    "    if real_rating >= relevant_threshold:\n",
    "        total_relevant += 1\n",
    "        # Si la predicción también es ≥ umbral, es un acierto\n",
    "        if predicted_rating >= relevant_threshold:\n",
    "            hits += 1\n",
    "\n",
    "# Calcular el Hit Rate Global\n",
    "hit_rate_global = hits / total_relevant if total_relevant > 0 else 0\n",
    "print(f\"Hit Rate Global: {hit_rate_global:.2f}\")"
   ]
  },
  {
   "cell_type": "markdown",
   "metadata": {},
   "source": [
    "Git rate per user"
   ]
  },
  {
   "cell_type": "code",
   "execution_count": 29,
   "metadata": {},
   "outputs": [
    {
     "name": "stdout",
     "output_type": "stream",
     "text": [
      "Hit Rate promedio por usuario: 0.39\n"
     ]
    }
   ],
   "source": [
    "# Inicializar lista para almacenar hit rates por usuario\n",
    "hit_rates = []\n",
    "\n",
    "# Agrupar predicciones por usuario\n",
    "for user_id, group in predictions_df.groupby('userId'):\n",
    "    hits = 0\n",
    "    total_relevant = 0\n",
    "\n",
    "    for _, row in group.iterrows():\n",
    "        real_rating = row['real_rating']\n",
    "        predicted_rating = row['predicted_rating']\n",
    "\n",
    "        # Considerar películas relevantes\n",
    "        if real_rating >= relevant_threshold:\n",
    "            total_relevant += 1\n",
    "            if predicted_rating >= relevant_threshold:\n",
    "                hits += 1\n",
    "\n",
    "    # Calcular Hit Rate para el usuario\n",
    "    if total_relevant > 0:\n",
    "        hit_rate_user = hits / total_relevant\n",
    "        hit_rates.append(hit_rate_user)\n",
    "\n",
    "# Calcular el Hit Rate promedio\n",
    "hit_rate_avg_user = sum(hit_rates) / len(hit_rates) if len(hit_rates) > 0 else 0\n",
    "print(f\"Hit Rate promedio por usuario: {hit_rate_avg_user:.2f}\")"
   ]
  },
  {
   "cell_type": "markdown",
   "metadata": {},
   "source": [
    "Comentarios:\n",
    "\n",
    "* Teniendo un Hitrate global de 0.42 se consigue alcanzar recomendaciones aceptadas. No obstante, habiendo partido del hecho que es importante no brindar recomendaciones erroneas debido al tiempo invertido por una pelicula no provechosa, se podría esperar una fuga de clientes. Por lo que se debería emplear otra métricas que tengan que ver con la efectividad más cercana de la predicion como presicion por ejemplo, que se enfoca en reducir los falsos positivos y por ende recomendaciones de mejor c a l i d a d."
   ]
  }
 ],
 "metadata": {
  "kernelspec": {
   "display_name": ".venv",
   "language": "python",
   "name": "python3"
  },
  "language_info": {
   "codemirror_mode": {
    "name": "ipython",
    "version": 3
   },
   "file_extension": ".py",
   "mimetype": "text/x-python",
   "name": "python",
   "nbconvert_exporter": "python",
   "pygments_lexer": "ipython3",
   "version": "3.10.12"
  }
 },
 "nbformat": 4,
 "nbformat_minor": 2
}
